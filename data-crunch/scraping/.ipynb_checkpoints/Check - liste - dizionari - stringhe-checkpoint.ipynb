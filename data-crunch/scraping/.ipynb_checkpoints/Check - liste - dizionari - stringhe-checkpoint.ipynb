{
 "cells": [
  {
   "cell_type": "code",
   "execution_count": 5,
   "metadata": {
    "collapsed": false
   },
   "outputs": [],
   "source": [
    "yt = [[\n",
    "\t'yt1',\n",
    "\t{'details': {'video': 'alphanum8'}},\n",
    "\t{'details': {'video': 'alphanum5'}},\n",
    "\t[{'details': {'video': 'alphanum3'}},\n",
    "\t {'details': {'video': 'alphanum2'}}]],\n",
    "\t['yt2',\n",
    "\t{'details': {'video': 'alphanum1'}},\n",
    "\t{'details': {'video': 'alphanum4'}},\n",
    "\t[{'details': {'video': 'alphanum7'}},\n",
    "\t {'details': {'video': 'alphanum9'}}]]]\n",
    "\t\n",
    "res = [['yt1',\n",
    "    {'details': {'video': 'alphanum8'}},\n",
    "    {'details': {'video': 'alphanum5'}},\n",
    "    {'details': {'video': 'alphanum3'}},\n",
    "    {'details': {'video': 'alphanum2'}}],\n",
    "   ['yt2',\n",
    "    {'details': {'video': 'alphanum1'}},\n",
    "    {'details': {'video': 'alphanum4'}},\n",
    "    {'details': {'video': 'alphanum7'}},\n",
    "    {'details': {'video': 'alphanum9'}}]]\n",
    "\n",
    "# Decoratore per controllare i compiti\n",
    "def check_hw(func):\n",
    "    \n",
    "    good = [['yt1',\n",
    "        {'details': {'video': 'alphanum8'}},\n",
    "        {'details': {'video': 'alphanum5'}},\n",
    "        {'details': {'video': 'alphanum3'}},\n",
    "        {'details': {'video': 'alphanum2'}}],\n",
    "       ['yt2',\n",
    "        {'details': {'video': 'alphanum1'}},\n",
    "        {'details': {'video': 'alphanum4'}},\n",
    "        {'details': {'video': 'alphanum7'}},\n",
    "        {'details': {'video': 'alphanum9'}}]]\n",
    "    \n",
    "    def algo(*args):\n",
    "        result = func(*args)\n",
    "        if result == good:\n",
    "            return \"Bravo! Hai fatto tutto giusto!\"\n",
    "        else:\n",
    "            return \"Mmmmmmmh... Mi sa che hai sbagliato qualcosa -> %s\" % result\n",
    "    return algo\n",
    "\n"
   ]
  },
  {
   "cell_type": "code",
   "execution_count": 6,
   "metadata": {
    "collapsed": false
   },
   "outputs": [
    {
     "data": {
      "text/plain": [
       "[['yt1',\n",
       "  {'details': {'video': 'alphanum8'}},\n",
       "  {'details': {'video': 'alphanum5'}},\n",
       "  [{'details': {'video': 'alphanum3'}}, {'details': {'video': 'alphanum2'}}]],\n",
       " ['yt2',\n",
       "  {'details': {'video': 'alphanum1'}},\n",
       "  {'details': {'video': 'alphanum4'}},\n",
       "  [{'details': {'video': 'alphanum7'}}, {'details': {'video': 'alphanum9'}}]]]"
      ]
     },
     "execution_count": 6,
     "metadata": {},
     "output_type": "execute_result"
    }
   ],
   "source": [
    "yt"
   ]
  },
  {
   "cell_type": "code",
   "execution_count": 7,
   "metadata": {
    "collapsed": false
   },
   "outputs": [
    {
     "data": {
      "text/plain": [
       "[['yt1',\n",
       "  {'details': {'video': 'alphanum8'}},\n",
       "  {'details': {'video': 'alphanum5'}},\n",
       "  {'details': {'video': 'alphanum3'}},\n",
       "  {'details': {'video': 'alphanum2'}}],\n",
       " ['yt2',\n",
       "  {'details': {'video': 'alphanum1'}},\n",
       "  {'details': {'video': 'alphanum4'}},\n",
       "  {'details': {'video': 'alphanum7'}},\n",
       "  {'details': {'video': 'alphanum9'}}]]"
      ]
     },
     "execution_count": 7,
     "metadata": {},
     "output_type": "execute_result"
    }
   ],
   "source": [
    "res"
   ]
  },
  {
   "cell_type": "code",
   "execution_count": 17,
   "metadata": {
    "collapsed": false
   },
   "outputs": [
    {
     "data": {
      "text/plain": [
       "[['yt1',\n",
       "  {'details': {'video': 'alphanum8'}},\n",
       "  {'details': {'video': 'alphanum5'}},\n",
       "  [{'details': {'video': 'alphanum3'}}, {'details': {'video': 'alphanum2'}}]],\n",
       " ['yt2',\n",
       "  {'details': {'video': 'alphanum1'}},\n",
       "  {'details': {'video': 'alphanum4'}},\n",
       "  [{'details': {'video': 'alphanum7'}}, {'details': {'video': 'alphanum9'}}]]]"
      ]
     },
     "execution_count": 17,
     "metadata": {},
     "output_type": "execute_result"
    }
   ],
   "source": [
    "yt"
   ]
  },
  {
   "cell_type": "code",
   "execution_count": 9,
   "metadata": {
    "collapsed": false
   },
   "outputs": [
    {
     "data": {
      "text/plain": [
       "['yt1',\n",
       " {'details': {'video': 'alphanum8'}},\n",
       " {'details': {'video': 'alphanum5'}},\n",
       " {'details': {'video': 'alphanum3'}},\n",
       " {'details': {'video': 'alphanum2'}}]"
      ]
     },
     "execution_count": 9,
     "metadata": {},
     "output_type": "execute_result"
    }
   ],
   "source": [
    "res[0]"
   ]
  },
  {
   "cell_type": "code",
   "execution_count": 10,
   "metadata": {
    "collapsed": false
   },
   "outputs": [
    {
     "data": {
      "text/html": [
       "<div>\n",
       "<table border=\"1\" class=\"dataframe\">\n",
       "  <thead>\n",
       "    <tr style=\"text-align: right;\">\n",
       "      <th></th>\n",
       "      <th>0</th>\n",
       "      <th>1</th>\n",
       "      <th>2</th>\n",
       "      <th>3</th>\n",
       "    </tr>\n",
       "  </thead>\n",
       "  <tbody>\n",
       "    <tr>\n",
       "      <th>0</th>\n",
       "      <td>yt1</td>\n",
       "      <td>{'details': {'video': 'alphanum8'}}</td>\n",
       "      <td>{'details': {'video': 'alphanum5'}}</td>\n",
       "      <td>[{'details': {'video': 'alphanum3'}}, {'detail...</td>\n",
       "    </tr>\n",
       "    <tr>\n",
       "      <th>1</th>\n",
       "      <td>yt2</td>\n",
       "      <td>{'details': {'video': 'alphanum1'}}</td>\n",
       "      <td>{'details': {'video': 'alphanum4'}}</td>\n",
       "      <td>[{'details': {'video': 'alphanum7'}}, {'detail...</td>\n",
       "    </tr>\n",
       "  </tbody>\n",
       "</table>\n",
       "</div>"
      ],
      "text/plain": [
       "     0                                    1  \\\n",
       "0  yt1  {'details': {'video': 'alphanum8'}}   \n",
       "1  yt2  {'details': {'video': 'alphanum1'}}   \n",
       "\n",
       "                                     2  \\\n",
       "0  {'details': {'video': 'alphanum5'}}   \n",
       "1  {'details': {'video': 'alphanum4'}}   \n",
       "\n",
       "                                                   3  \n",
       "0  [{'details': {'video': 'alphanum3'}}, {'detail...  \n",
       "1  [{'details': {'video': 'alphanum7'}}, {'detail...  "
      ]
     },
     "execution_count": 10,
     "metadata": {},
     "output_type": "execute_result"
    }
   ],
   "source": [
    "import pandas as pd\n",
    "pd.DataFrame(yt)"
   ]
  },
  {
   "cell_type": "code",
   "execution_count": 11,
   "metadata": {
    "collapsed": false
   },
   "outputs": [
    {
     "data": {
      "text/html": [
       "<div>\n",
       "<table border=\"1\" class=\"dataframe\">\n",
       "  <thead>\n",
       "    <tr style=\"text-align: right;\">\n",
       "      <th></th>\n",
       "      <th>0</th>\n",
       "      <th>1</th>\n",
       "      <th>2</th>\n",
       "      <th>3</th>\n",
       "      <th>4</th>\n",
       "    </tr>\n",
       "  </thead>\n",
       "  <tbody>\n",
       "    <tr>\n",
       "      <th>0</th>\n",
       "      <td>yt1</td>\n",
       "      <td>{'details': {'video': 'alphanum8'}}</td>\n",
       "      <td>{'details': {'video': 'alphanum5'}}</td>\n",
       "      <td>{'details': {'video': 'alphanum3'}}</td>\n",
       "      <td>{'details': {'video': 'alphanum2'}}</td>\n",
       "    </tr>\n",
       "    <tr>\n",
       "      <th>1</th>\n",
       "      <td>yt2</td>\n",
       "      <td>{'details': {'video': 'alphanum1'}}</td>\n",
       "      <td>{'details': {'video': 'alphanum4'}}</td>\n",
       "      <td>{'details': {'video': 'alphanum7'}}</td>\n",
       "      <td>{'details': {'video': 'alphanum9'}}</td>\n",
       "    </tr>\n",
       "  </tbody>\n",
       "</table>\n",
       "</div>"
      ],
      "text/plain": [
       "     0                                    1  \\\n",
       "0  yt1  {'details': {'video': 'alphanum8'}}   \n",
       "1  yt2  {'details': {'video': 'alphanum1'}}   \n",
       "\n",
       "                                     2                                    3  \\\n",
       "0  {'details': {'video': 'alphanum5'}}  {'details': {'video': 'alphanum3'}}   \n",
       "1  {'details': {'video': 'alphanum4'}}  {'details': {'video': 'alphanum7'}}   \n",
       "\n",
       "                                     4  \n",
       "0  {'details': {'video': 'alphanum2'}}  \n",
       "1  {'details': {'video': 'alphanum9'}}  "
      ]
     },
     "execution_count": 11,
     "metadata": {},
     "output_type": "execute_result"
    }
   ],
   "source": [
    "pd.DataFrame(res)"
   ]
  },
  {
   "cell_type": "code",
   "execution_count": 16,
   "metadata": {
    "collapsed": false
   },
   "outputs": [
    {
     "data": {
      "text/html": [
       "<div>\n",
       "<table border=\"1\" class=\"dataframe\">\n",
       "  <thead>\n",
       "    <tr style=\"text-align: right;\">\n",
       "      <th></th>\n",
       "      <th>details</th>\n",
       "    </tr>\n",
       "  </thead>\n",
       "  <tbody>\n",
       "    <tr>\n",
       "      <th>0</th>\n",
       "      <td>{'video': 'alphanum8'}</td>\n",
       "    </tr>\n",
       "    <tr>\n",
       "      <th>1</th>\n",
       "      <td>{'video': 'alphanum5'}</td>\n",
       "    </tr>\n",
       "    <tr>\n",
       "      <th>2</th>\n",
       "      <td>{'video': 'alphanum3'}</td>\n",
       "    </tr>\n",
       "    <tr>\n",
       "      <th>3</th>\n",
       "      <td>{'video': 'alphanum2'}</td>\n",
       "    </tr>\n",
       "  </tbody>\n",
       "</table>\n",
       "</div>"
      ],
      "text/plain": [
       "                  details\n",
       "0  {'video': 'alphanum8'}\n",
       "1  {'video': 'alphanum5'}\n",
       "2  {'video': 'alphanum3'}\n",
       "3  {'video': 'alphanum2'}"
      ]
     },
     "execution_count": 16,
     "metadata": {},
     "output_type": "execute_result"
    }
   ],
   "source": [
    "pd.DataFrame(res[0][1:])"
   ]
  },
  {
   "cell_type": "markdown",
   "metadata": {},
   "source": [
    "voglio destrutturare la lista yt perché è formata da 2 dizionari e 1 lista formata da 2 dizionari. Dobbiamo destrutturarla"
   ]
  },
  {
   "cell_type": "code",
   "execution_count": 30,
   "metadata": {
    "collapsed": false
   },
   "outputs": [
    {
     "data": {
      "text/plain": [
       "\"Mmmmmmmh... Mi sa che hai sbagliato qualcosa -> ['y', 't', '1', 'details', 'details', {'details': {'video': 'alphanum3'}}, {'details': {'video': 'alphanum2'}}, 'y', 't', '2', 'details', 'details', {'details': {'video': 'alphanum7'}}, {'details': {'video': 'alphanum9'}}]\""
      ]
     },
     "execution_count": 30,
     "metadata": {},
     "output_type": "execute_result"
    }
   ],
   "source": [
    "@check_hw\n",
    "def algo(data):\n",
    "    res = []\n",
    "    \n",
    "    for i in data:\n",
    "        for j in i:\n",
    "            for k in j:\n",
    "                res.append(k)\n",
    "            \n",
    "    return res\n",
    "algo(yt)"
   ]
  },
  {
   "cell_type": "code",
   "execution_count": 31,
   "metadata": {
    "collapsed": false
   },
   "outputs": [
    {
     "data": {
      "text/plain": [
       "[['yt1',\n",
       "  {'details': {'video': 'alphanum8'}},\n",
       "  {'details': {'video': 'alphanum5'}},\n",
       "  [{'details': {'video': 'alphanum3'}}, {'details': {'video': 'alphanum2'}}]],\n",
       " ['yt2',\n",
       "  {'details': {'video': 'alphanum1'}},\n",
       "  {'details': {'video': 'alphanum4'}},\n",
       "  [{'details': {'video': 'alphanum7'}}, {'details': {'video': 'alphanum9'}}]]]"
      ]
     },
     "execution_count": 31,
     "metadata": {},
     "output_type": "execute_result"
    }
   ],
   "source": [
    "yt"
   ]
  },
  {
   "cell_type": "code",
   "execution_count": 36,
   "metadata": {
    "collapsed": false
   },
   "outputs": [
    {
     "data": {
      "text/plain": [
       "'Bravo! Hai fatto tutto giusto!'"
      ]
     },
     "execution_count": 36,
     "metadata": {},
     "output_type": "execute_result"
    }
   ],
   "source": [
    "@check_hw\n",
    "def algo(data):\n",
    "    res = []\n",
    "    for i in yt:\n",
    "        el = []\n",
    "        for j in i:\n",
    "            if not isinstance(j, list):\n",
    "                el.append(j)\n",
    "            else:\n",
    "                for v in j:\n",
    "                    el.append(v)\n",
    "        res.append(el)\n",
    "    \n",
    "    return res\n",
    "algo(res)"
   ]
  },
  {
   "cell_type": "code",
   "execution_count": 33,
   "metadata": {
    "collapsed": false
   },
   "outputs": [
    {
     "data": {
      "text/plain": [
       "[['yt1',\n",
       "  {'details': {'video': 'alphanum8'}},\n",
       "  {'details': {'video': 'alphanum5'}},\n",
       "  {'details': {'video': 'alphanum3'}},\n",
       "  {'details': {'video': 'alphanum2'}}],\n",
       " ['yt2',\n",
       "  {'details': {'video': 'alphanum1'}},\n",
       "  {'details': {'video': 'alphanum4'}},\n",
       "  {'details': {'video': 'alphanum7'}},\n",
       "  {'details': {'video': 'alphanum9'}}]]"
      ]
     },
     "execution_count": 33,
     "metadata": {},
     "output_type": "execute_result"
    }
   ],
   "source": [
    "res"
   ]
  }
 ],
 "metadata": {
  "kernelspec": {
   "display_name": "Python 3",
   "language": "python",
   "name": "python3"
  },
  "language_info": {
   "codemirror_mode": {
    "name": "ipython",
    "version": 3
   },
   "file_extension": ".py",
   "mimetype": "text/x-python",
   "name": "python",
   "nbconvert_exporter": "python",
   "pygments_lexer": "ipython3",
   "version": "3.6.0"
  }
 },
 "nbformat": 4,
 "nbformat_minor": 2
}
