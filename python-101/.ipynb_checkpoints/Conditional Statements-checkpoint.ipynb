{
 "cells": [
  {
   "cell_type": "markdown",
   "metadata": {},
   "source": [
    "# Conditional Statements\n",
    "\n",
    "Python has the statements **if/elif/else**\n",
    "\n",
    "The conditional statement checks to see if a statement is True or False. That’s really all it does.\n",
    "\n",
    "### The _if_ statement\n",
    "\n",
    "let's see how it works"
   ]
  },
  {
   "cell_type": "code",
   "execution_count": 1,
   "metadata": {
    "collapsed": false
   },
   "outputs": [
    {
     "name": "stdout",
     "output_type": "stream",
     "text": [
      "This is a TRUE statement\n"
     ]
    }
   ],
   "source": [
    "if 2 > 1:\n",
    "    print (\"This is a TRUE statement\")"
   ]
  },
  {
   "cell_type": "markdown",
   "metadata": {},
   "source": [
    "Since this statement evaluates to True, it will cause the last line in the example to print to the screen or standard out (stdout)."
   ]
  },
  {
   "cell_type": "code",
   "execution_count": 2,
   "metadata": {
    "collapsed": true
   },
   "outputs": [],
   "source": [
    "var1 = 1\n",
    "var2 = 3\n",
    "if var1 > var2:\n",
    "    print(\"This is also TRUE\")"
   ]
  },
  {
   "cell_type": "markdown",
   "metadata": {},
   "source": [
    "since 1 is not bigger than 3 Python doesn't print anything. \n",
    "\n",
    "one is not greater than three, so it doesn’t print anything. But that piece:"
   ]
  },
  {
   "cell_type": "code",
   "execution_count": 4,
   "metadata": {
    "collapsed": false
   },
   "outputs": [
    {
     "name": "stdout",
     "output_type": "stream",
     "text": [
      "That was FALSE\n"
     ]
    }
   ],
   "source": [
    "if var1 > var2:\n",
    "    print(\"This is also TRUE\")\n",
    "else:\n",
    "    print(\"That was FALSE\")"
   ]
  },
  {
   "cell_type": "markdown",
   "metadata": {},
   "source": [
    "### Boolean Operations\n",
    "\n",
    "For Python, the order of boolean operations is:\n",
    "1. **or**: it means that if any conditional that is “ored” together is True, then the following statement runs\n",
    "2. **and**: it means that all statements must be True for the following statement to run\n",
    "3. **not**: it means that if the conditional evaluates to False, it is True.\n",
    "\n"
   ]
  },
  {
   "cell_type": "markdown",
   "metadata": {},
   "source": [
    "#### OR"
   ]
  },
  {
   "cell_type": "code",
   "execution_count": 6,
   "metadata": {
    "collapsed": false
   },
   "outputs": [
    {
     "name": "stdout",
     "output_type": "stream",
     "text": [
      "This statement was true\n"
     ]
    }
   ],
   "source": [
    "x = 10\n",
    "y = 20\n",
    "\n",
    "if x < 9 or y > 15:\n",
    "    print (\"This statement was true\")"
   ]
  },
  {
   "cell_type": "markdown",
   "metadata": {},
   "source": [
    "#### AND"
   ]
  },
  {
   "cell_type": "code",
   "execution_count": 7,
   "metadata": {
    "collapsed": false
   },
   "outputs": [
    {
     "name": "stdout",
     "output_type": "stream",
     "text": [
      "This statement was False\n"
     ]
    }
   ],
   "source": [
    "if x == 10 and y == 15:\n",
    "    print (\"This statement was True\")\n",
    "else:\n",
    "    print (\"This statement was False\")"
   ]
  },
  {
   "cell_type": "markdown",
   "metadata": {},
   "source": [
    "Why is that false? Because **both** statements must be evaluated to true in order to be consistent with the _if_\n",
    "\n",
    "Note that you can also or and and more than two statements together. However, I **do not recommend** that as the more statements that you do that too, the harder it can be to understand and debug."
   ]
  },
  {
   "cell_type": "markdown",
   "metadata": {},
   "source": [
    "#### NOT"
   ]
  },
  {
   "cell_type": "code",
   "execution_count": 8,
   "metadata": {
    "collapsed": false
   },
   "outputs": [
    {
     "name": "stdout",
     "output_type": "stream",
     "text": [
      "'x' is not in the list, so this is True\n"
     ]
    }
   ],
   "source": [
    "my_list = [1, 2, 3, 4, 5]\n",
    "x = 10\n",
    "if x not in my_list:\n",
    "    print(\"'x' is not in the list, so this is True\")"
   ]
  },
  {
   "cell_type": "markdown",
   "metadata": {},
   "source": [
    "we can **combine** the _not_ operation with the other two to create more complex conditional statements. Here is a simple example:"
   ]
  },
  {
   "cell_type": "code",
   "execution_count": 12,
   "metadata": {
    "collapsed": false
   },
   "outputs": [
    {
     "name": "stdout",
     "output_type": "stream",
     "text": [
      "'x' and 'z' are not in your list\n"
     ]
    }
   ],
   "source": [
    "my_list = [1, 2, 3, 4]\n",
    "x = 10\n",
    "z = 11\n",
    "if x and z not in my_list:\n",
    "    print (\"'x' and 'z' are not in your list\")"
   ]
  },
  {
   "cell_type": "code",
   "execution_count": 13,
   "metadata": {
    "collapsed": false
   },
   "outputs": [
    {
     "name": "stdout",
     "output_type": "stream",
     "text": [
      "'x' is not in your list and 'z' is equal or bigger than 11\n"
     ]
    }
   ],
   "source": [
    "if x not in my_list and z >=11:\n",
    "    print (\"'x' is not in your list and 'z' is equal or bigger than 11\")"
   ]
  },
  {
   "cell_type": "code",
   "execution_count": 14,
   "metadata": {
    "collapsed": false
   },
   "outputs": [
    {
     "name": "stdout",
     "output_type": "stream",
     "text": [
      "You should check what's going on\n"
     ]
    }
   ],
   "source": [
    "if x not in my_list and z !=11:\n",
    "    print (\"'x' is not in your list and 'z' is not equal to 11\")\n",
    "else:\n",
    "    print (\"You should check what's going on\")"
   ]
  },
  {
   "cell_type": "markdown",
   "metadata": {},
   "source": [
    "### Checking for nothing\n",
    "\n",
    "Python has the keyword **False** but it is used also for ***empty*** _string, tuple_ or _list_.\n",
    "\n",
    "There's also another keyword that basically evaluates to False which is called **None**.\n",
    "\n",
    "None value is used to represent the absence of value. It’s kind of analogous to Null, which you find in databases. Let’s take a look at some code to help us better understand how this all works:"
   ]
  },
  {
   "cell_type": "code",
   "execution_count": 20,
   "metadata": {
    "collapsed": false
   },
   "outputs": [
    {
     "name": "stdout",
     "output_type": "stream",
     "text": [
      "It's an empty list\n",
      "This is an empty string!\n",
      "Then it's nothing!\n"
     ]
    }
   ],
   "source": [
    "empty_list = []\n",
    "empty_tuple = ()\n",
    "empty_string = \"\"\n",
    "\n",
    "nothing = None\n",
    "\n",
    "if empty_list == []:\n",
    "    print (\"It's an empty list\")\n",
    "    \n",
    "\n",
    "if empty_tuple:\n",
    "    print (\"It's not an empty tuple\")\n",
    "    \n",
    "    \n",
    "if not empty_string: \n",
    "    print(\"This is an empty string!\")\n",
    "    \n",
    "\n",
    "if not nothing: \n",
    "    print (\"Then it's nothing!\")"
   ]
  },
  {
   "cell_type": "markdown",
   "metadata": {},
   "source": [
    "The second conditional checks to see if the empty_tuple has something in it. Yes, you read that right, The second conditional only evaluates to True if the tuple is not empty!\n",
    "\n",
    "The third is checking if the string is empty and the fourth is checking if the nothing variable is really None.\n",
    "\n",
    "The fourth conditional is like this: \"se nothing contiene qualcosa allora è FALSO e se non contiene niente allora è VERO\"\n",
    "\n",
    "It's the opposite of the second conditional.\n",
    "\n",
    "The not operator means that we are checking for the opposite meaning. In other words, we are checking if the value is NOT True.\n",
    "\n",
    "Now, let's the **empty_string** contains something:"
   ]
  },
  {
   "cell_type": "code",
   "execution_count": 21,
   "metadata": {
    "collapsed": true
   },
   "outputs": [],
   "source": [
    "empty_string = \"something\"\n",
    "if empty_string == \"\":\n",
    "    print (\"this is an empty string\")"
   ]
  },
  {
   "cell_type": "code",
   "execution_count": 22,
   "metadata": {
    "collapsed": false
   },
   "outputs": [
    {
     "name": "stdout",
     "output_type": "stream",
     "text": [
      "This string has something inside it\n"
     ]
    }
   ],
   "source": [
    "if not empty_string == \"\":\n",
    "    print (\"This string has something inside it\")"
   ]
  },
  {
   "cell_type": "code",
   "execution_count": null,
   "metadata": {
    "collapsed": true
   },
   "outputs": [],
   "source": []
  },
  {
   "cell_type": "code",
   "execution_count": null,
   "metadata": {
    "collapsed": true
   },
   "outputs": [],
   "source": []
  }
 ],
 "metadata": {
  "kernelspec": {
   "display_name": "Python 3",
   "language": "python",
   "name": "python3"
  },
  "language_info": {
   "codemirror_mode": {
    "name": "ipython",
    "version": 3
   },
   "file_extension": ".py",
   "mimetype": "text/x-python",
   "name": "python",
   "nbconvert_exporter": "python",
   "pygments_lexer": "ipython3",
   "version": "3.6.0"
  }
 },
 "nbformat": 4,
 "nbformat_minor": 2
}
